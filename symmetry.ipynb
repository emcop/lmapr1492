{
 "cells": [
  {
   "cell_type": "code",
   "execution_count": 22,
   "id": "c97324f2",
   "metadata": {},
   "outputs": [],
   "source": [
    "from jupyter_jsmol import JsmolView\n",
    "from ipywidgets import Layout, widgets, interact\n",
    "from pymatgen.ext.matproj import MPRester\n",
    "from pymatgen.core.operations import SymmOp\n",
    "from pymatgen import Structure\n",
    "from jupyter_jsmol.pymatgen import quick_view\n",
    "from pymatgen.symmetry.analyzer import SpacegroupAnalyzer, SpacegroupOperations,generate_full_symmops"
   ]
  },
  {
   "cell_type": "code",
   "execution_count": 23,
   "id": "824f30b7",
   "metadata": {},
   "outputs": [],
   "source": [
    "with MPRester(\"Enpk9zc3KTfZxN4DTgTx\") as m:\n",
    "    structure = m.get_structure_by_material_id(\"mp-30847\")\n",
    "\n",
    "sym = analyse_structure.get_symmetry_operations()\n"
   ]
  },
  {
   "cell_type": "code",
   "execution_count": 24,
   "id": "fade4994",
   "metadata": {},
   "outputs": [
    {
     "name": "stdout",
     "output_type": "stream",
     "text": [
      "Premier atome : Ti\n",
      "Coordonnées initiales de l'atome :  [0.0, 0.0, 0.0]\n",
      "Opération de symétrie choisie :\n",
      "Rot:\n",
      "[[ 0.  0.  1.]\n",
      " [-1. -1. -1.]\n",
      " [ 1.  0.  0.]]\n",
      "tau\n",
      "[0. 0. 0.]\n",
      "Coordonnées de l'atome après l'application de l'opération de symétrie :  [0. 0. 0.]\n"
     ]
    },
    {
     "data": {
      "application/vnd.jupyter.widget-view+json": {
       "model_id": "9885d7ad374240728130238ae5c004e8",
       "version_major": 2,
       "version_minor": 0
      },
      "text/plain": [
       "JsmolView(layout=Layout(align_self='stretch', height='400px'))"
      ]
     },
     "metadata": {},
     "output_type": "display_data"
    }
   ],
   "source": [
    "#Ti\n",
    "print(\"Premier atome : Ti\")\n",
    "coord_Ti = [0.0, 0.0, 0.0]\n",
    "print(\"Coordonnées initiales de l'atome : \", coord_Ti)\n",
    "print(\"Opération de symétrie choisie :\")\n",
    "print(sym[2])\n",
    "new_Ti = sym[2].operate(coord_Ti)\n",
    "print(\"Coordonnées de l'atome après l'application de l'opération de symétrie : \", new_Ti)\n",
    "v1 = quick_view(structure)\n",
    "display(v1)\n",
    "v1.script(\"draw symop 3 {atomno=1}\")"
   ]
  },
  {
   "cell_type": "code",
   "execution_count": 25,
   "id": "810e018c",
   "metadata": {},
   "outputs": [
    {
     "name": "stdout",
     "output_type": "stream",
     "text": [
      "Deuxième atome : Sn\n",
      "Coordonnées initiales de l'atome :  [0.0, 0.0, 0.5]\n",
      "Opération de symétrie choisie :\n",
      "Rot:\n",
      "[[ 0.  1.  0.]\n",
      " [ 1.  0.  0.]\n",
      " [-1. -1. -1.]]\n",
      "tau\n",
      "[0. 0. 0.]\n",
      "Coordonnées de l'atome après l'application de l'opération de symétrie :  [ 0.   0.  -0.5]\n"
     ]
    },
    {
     "data": {
      "application/vnd.jupyter.widget-view+json": {
       "model_id": "13541f6491fb48f3b3dfda8bc51f2478",
       "version_major": 2,
       "version_minor": 0
      },
      "text/plain": [
       "JsmolView(layout=Layout(align_self='stretch', height='400px'))"
      ]
     },
     "metadata": {},
     "output_type": "display_data"
    }
   ],
   "source": [
    "#Sn\n",
    "print(\"Deuxième atome : Sn\")\n",
    "coord_Sn = [0.0, 0.0, 0.5]\n",
    "print(\"Coordonnées initiales de l'atome : \", coord_Sn)\n",
    "print(\"Opération de symétrie choisie :\")\n",
    "print(sym[6])\n",
    "new_Sn = sym[6].operate(coord_Sn)\n",
    "print(\"Coordonnées de l'atome après l'application de l'opération de symétrie : \", new_Sn)\n",
    "v2 = quick_view(structure)\n",
    "display(v2)\n",
    "v2.script(\"draw symop 7 {atomno=2}\")"
   ]
  },
  {
   "cell_type": "code",
   "execution_count": 26,
   "id": "00e2f96c",
   "metadata": {},
   "outputs": [
    {
     "name": "stdout",
     "output_type": "stream",
     "text": [
      "Troisième atome : Pt\n",
      "Coordonnées initiales de l'atome :  [0.25, 0.25, 0.25]\n",
      "Opération de symétrie choisie :\n",
      "Rot:\n",
      "[[-1. -1. -1.]\n",
      " [ 0.  0.  1.]\n",
      " [ 1.  0.  0.]]\n",
      "tau\n",
      "[0. 0. 0.]\n",
      "Coordonnées de l'atome après l'application de l'opération de symétrie :  [-0.75  0.25  0.25]\n"
     ]
    },
    {
     "data": {
      "application/vnd.jupyter.widget-view+json": {
       "model_id": "5ebfa68ee72d48978e082173d09f5ff3",
       "version_major": 2,
       "version_minor": 0
      },
      "text/plain": [
       "JsmolView(layout=Layout(align_self='stretch', height='400px'))"
      ]
     },
     "metadata": {},
     "output_type": "display_data"
    }
   ],
   "source": [
    "#Pt\n",
    "print(\"Troisième atome : Pt\")\n",
    "coord_Pt = [0.25, 0.25, 0.25]\n",
    "print(\"Coordonnées initiales de l'atome : \", coord_Pt)\n",
    "print(\"Opération de symétrie choisie :\")\n",
    "print(sym[15])\n",
    "new_Pt = sym[15].operate(coord_Pt)\n",
    "print(\"Coordonnées de l'atome après l'application de l'opération de symétrie : \", new_Pt)\n",
    "v3 = quick_view(structure)\n",
    "display(v3)\n",
    "v3.script(\"draw symop 16 {atomno=3}\")"
   ]
  }
 ],
 "metadata": {
  "kernelspec": {
   "display_name": "Python 3",
   "language": "python",
   "name": "python3"
  },
  "language_info": {
   "codemirror_mode": {
    "name": "ipython",
    "version": 3
   },
   "file_extension": ".py",
   "mimetype": "text/x-python",
   "name": "python",
   "nbconvert_exporter": "python",
   "pygments_lexer": "ipython3",
   "version": "3.6.8"
  }
 },
 "nbformat": 4,
 "nbformat_minor": 5
}
