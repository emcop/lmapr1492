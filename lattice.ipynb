{
 "cells": [
  {
   "cell_type": "code",
   "execution_count": 2,
   "id": "08500f93",
   "metadata": {},
   "outputs": [],
   "source": [
    "from pymatgen.ext.matproj import MPRester\n",
    "from pymatgen import Structure\n",
    "from pymatgen.symmetry.analyzer import SpacegroupAnalyzer"
   ]
  },
  {
   "cell_type": "code",
   "execution_count": 3,
   "id": "00521edc",
   "metadata": {},
   "outputs": [],
   "source": [
    "with MPRester(\"Enpk9zc3KTfZxN4DTgTx\") as m:\n",
    "    structure = m.get_structure_by_material_id(\"mp-30847\")"
   ]
  },
  {
   "cell_type": "code",
   "execution_count": 4,
   "id": "d24df1eb",
   "metadata": {},
   "outputs": [
    {
     "name": "stdout",
     "output_type": "stream",
     "text": [
      "a =  [0.       3.115911 3.115911]\n",
      "b =  [3.115911 0.       3.115911]\n",
      "c =  [3.115911 3.115911 0.      ]\n"
     ]
    }
   ],
   "source": [
    "lattice = structure.lattice\n",
    "matrix = lattice.matrix\n",
    "\n",
    "a = matrix[0]  \n",
    "b = matrix[1]\n",
    "c = matrix[2]\n",
    "print(\"a = \", a)\n",
    "print(\"b = \", b)\n",
    "print(\"c = \", c)"
   ]
  },
  {
   "cell_type": "code",
   "execution_count": 5,
   "id": "418f3d36",
   "metadata": {},
   "outputs": [
    {
     "name": "stdout",
     "output_type": "stream",
     "text": [
      "a* =  [-1.0082421  1.0082421  1.0082421]\n",
      "b* =  [ 1.0082421 -1.0082421  1.0082421]\n",
      "c* =  [ 1.0082421  1.0082421 -1.0082421]\n"
     ]
    }
   ],
   "source": [
    "reciprocal_lattice = lattice.reciprocal_lattice\n",
    "matrix_rec = reciprocal_lattice.matrix \n",
    "\n",
    "astar = matrix_rec[0] \n",
    "bstar = matrix_rec[1]\n",
    "cstar = matrix_rec[2]\n",
    "\n",
    "print(\"a* = \", astar)\n",
    "print(\"b* = \", bstar)\n",
    "print(\"c* = \", cstar)"
   ]
  },
  {
   "cell_type": "code",
   "execution_count": 6,
   "id": "178ff472",
   "metadata": {},
   "outputs": [
    {
     "name": "stdout",
     "output_type": "stream",
     "text": [
      "Type de maille :  cubic\n",
      "Système critsallin : cubic\n",
      "Groupe ponctuel :  -43m\n"
     ]
    }
   ],
   "source": [
    "analyse_structure = SpacegroupAnalyzer(structure)\n",
    "\n",
    "\n",
    "type_maille = analyse_structure.get_lattice_type()\n",
    "print(\"Type de maille : \", type_maille)\n",
    " \n",
    "\n",
    "syst_crist = analyse_structure.get_crystal_system()\n",
    "print(\"Système critsallin :\", syst_crist)\n",
    "\n",
    "\n",
    "grp_ponct = analyse_structure.get_point_group_symbol()\n",
    "print(\"Groupe ponctuel : \",grp_ponct)"
   ]
  }
 ],
 "metadata": {
  "kernelspec": {
   "display_name": "Python 3",
   "language": "python",
   "name": "python3"
  },
  "language_info": {
   "codemirror_mode": {
    "name": "ipython",
    "version": 3
   },
   "file_extension": ".py",
   "mimetype": "text/x-python",
   "name": "python",
   "nbconvert_exporter": "python",
   "pygments_lexer": "ipython3",
   "version": "3.6.8"
  }
 },
 "nbformat": 4,
 "nbformat_minor": 5
}
