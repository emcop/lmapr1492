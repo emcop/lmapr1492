{
 "cells": [
  {
   "cell_type": "code",
   "execution_count": 3,
   "id": "afb3936e",
   "metadata": {},
   "outputs": [],
   "source": [
    "from pymatgen.symmetry.analyzer import SpacegroupAnalyzer\n",
    "from pymatgen.ext.matproj import MPRester\n",
    "with MPRester(\"Enpk9zc3KTfZxN4DTgTx\") as m:\n",
    "    structure = m.get_structure_by_material_id(\"mp-30847\")\n",
    "symmetryzedstruc = SpacegroupAnalyzer(structure).get_symmetrized_structure() \n",
    "    "
   ]
  },
  {
   "cell_type": "code",
   "execution_count": null,
   "id": "cba5ec09",
   "metadata": {},
   "outputs": [],
   "source": []
  }
 ],
 "metadata": {
  "kernelspec": {
   "display_name": "Python 3",
   "language": "python",
   "name": "python3"
  },
  "language_info": {
   "codemirror_mode": {
    "name": "ipython",
    "version": 3
   },
   "file_extension": ".py",
   "mimetype": "text/x-python",
   "name": "python",
   "nbconvert_exporter": "python",
   "pygments_lexer": "ipython3",
   "version": "3.6.8"
  }
 },
 "nbformat": 4,
 "nbformat_minor": 5
}
